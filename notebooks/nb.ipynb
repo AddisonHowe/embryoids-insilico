{
 "cells": [
  {
   "cell_type": "code",
   "execution_count": 1,
   "metadata": {},
   "outputs": [],
   "source": [
    "import numpy as np\n",
    "from insilemb.simulations.simdisk import run_voronoi_simulation"
   ]
  },
  {
   "cell_type": "code",
   "execution_count": 2,
   "metadata": {},
   "outputs": [],
   "source": [
    "ncells=10000\n",
    "tfin=5000\n",
    "dt=0.01\n",
    "saverate=1000\n",
    "boundary_type=None\n",
    "regularization=10\n",
    "\n",
    "outdir=f\"../out/nb/sims/simdisk_{ncells}_{tfin}\"\n",
    "\n",
    "verbosity = 1"
   ]
  },
  {
   "cell_type": "code",
   "execution_count": 3,
   "metadata": {},
   "outputs": [],
   "source": [
    "# Initial condition\n",
    "n = ncells\n",
    "ic = np.random.rand(2, n)"
   ]
  },
  {
   "cell_type": "code",
   "execution_count": 4,
   "metadata": {},
   "outputs": [],
   "source": [
    "# Dish and embryoid radii\n",
    "r_box = 1.2\n",
    "r_emb = 1\n",
    "emb_center = [0, 0]\n",
    "\n",
    "# Model parameters\n",
    "nus_inner = [0.014, 0.4]\n",
    "nus_outer = [0.014, 0.4]\n",
    "alphas_inner = [0.0, 0.0]\n",
    "alphas_outer = [0.0, 0.0]\n",
    "betas_inner = [0.001, 0.008]\n",
    "betas_outer = [0.01, 0.01]\n",
    "sa_inner = 0.01\n",
    "sa_outer = 0.0\n",
    "si_inner = 0.01\n",
    "si_outer = 0.0\n",
    "ka = 0\n",
    "ki = 1"
   ]
  },
  {
   "cell_type": "code",
   "execution_count": 5,
   "metadata": {},
   "outputs": [
    {
     "name": "stdout",
     "output_type": "stream",
     "text": [
      "ncells: 10000\n",
      "nsteps: 500000\n",
      "dt: 0.01\n",
      "saverate: 1000\n",
      "r_box: 1.2\n",
      "r_emb: 1\n",
      "emb_center: [0, 0]\n",
      "regularization: 10\n",
      "boundary_type: None\n",
      "use_gpu: False\n",
      "Regularizing Voronoi patterning...\n"
     ]
    },
    {
     "name": "stderr",
     "output_type": "stream",
     "text": [
      "Regularizing: 100%|██████████| 10/10 [00:08<00:00,  1.22it/s]"
     ]
    },
    {
     "name": "stdout",
     "output_type": "stream",
     "text": [
      "Regularizing complete.\n",
      "Running simulation...\n"
     ]
    },
    {
     "name": "stderr",
     "output_type": "stream",
     "text": [
      "\n",
      "Simulating:   0%|          | 996/500000 [00:03<29:36, 280.95it/s]"
     ]
    },
    {
     "name": "stdout",
     "output_type": "stream",
     "text": [
      "[iter 1000/500000]\t t=10\n",
      "\tTotal elapsed time: 3.5164 sec\n",
      "\tAverage time per iteration: 0.0035164 sec\n"
     ]
    },
    {
     "name": "stderr",
     "output_type": "stream",
     "text": [
      "Simulating:   0%|          | 1994/500000 [00:07<28:36, 290.19it/s]"
     ]
    },
    {
     "name": "stdout",
     "output_type": "stream",
     "text": [
      "[iter 2000/500000]\t t=20\n",
      "\tTotal elapsed time: 7.0498 sec\n",
      "\tAverage time per iteration: 0.0035334 sec\n"
     ]
    },
    {
     "name": "stderr",
     "output_type": "stream",
     "text": [
      "Simulating:   1%|          | 2999/500000 [00:10<29:03, 284.99it/s]"
     ]
    },
    {
     "name": "stdout",
     "output_type": "stream",
     "text": [
      "[iter 3000/500000]\t t=30\n",
      "\tTotal elapsed time: 10.562 sec\n",
      "\tAverage time per iteration: 0.003512 sec\n"
     ]
    },
    {
     "name": "stderr",
     "output_type": "stream",
     "text": [
      "Simulating:   1%|          | 3980/500000 [00:13<29:39, 278.67it/s]"
     ]
    },
    {
     "name": "stdout",
     "output_type": "stream",
     "text": [
      "[iter 4000/500000]\t t=40\n",
      "\tTotal elapsed time: 14.068 sec\n",
      "\tAverage time per iteration: 0.0035063 sec\n"
     ]
    },
    {
     "name": "stderr",
     "output_type": "stream",
     "text": [
      "Simulating:   1%|          | 4981/500000 [00:17<29:23, 280.64it/s]"
     ]
    },
    {
     "name": "stdout",
     "output_type": "stream",
     "text": [
      "[iter 5000/500000]\t t=50\n",
      "\tTotal elapsed time: 17.693 sec\n",
      "\tAverage time per iteration: 0.0036253 sec\n"
     ]
    },
    {
     "name": "stderr",
     "output_type": "stream",
     "text": [
      "Simulating:   1%|          | 5978/500000 [00:21<29:21, 280.51it/s]"
     ]
    },
    {
     "name": "stdout",
     "output_type": "stream",
     "text": [
      "[iter 6000/500000]\t t=60\n",
      "\tTotal elapsed time: 21.225 sec\n",
      "\tAverage time per iteration: 0.003532 sec\n"
     ]
    },
    {
     "name": "stderr",
     "output_type": "stream",
     "text": [
      "Simulating:   1%|▏         | 6459/500000 [00:22<29:10, 281.94it/s]\n"
     ]
    },
    {
     "ename": "KeyboardInterrupt",
     "evalue": "",
     "output_type": "error",
     "traceback": [
      "\u001b[0;31m---------------------------------------------------------------------------\u001b[0m",
      "\u001b[0;31mKeyboardInterrupt\u001b[0m                         Traceback (most recent call last)",
      "Cell \u001b[0;32mIn[5], line 2\u001b[0m\n\u001b[1;32m      1\u001b[0m nsteps \u001b[39m=\u001b[39m \u001b[39mint\u001b[39m(tfin\u001b[39m/\u001b[39mdt)\n\u001b[0;32m----> 2\u001b[0m run_voronoi_simulation(\n\u001b[1;32m      3\u001b[0m     ncells, nus_inner, nus_outer, alphas_inner, alphas_outer, betas_inner, \n\u001b[1;32m      4\u001b[0m     betas_outer, sa_inner, sa_outer, si_inner, si_outer, ka, ki, \n\u001b[1;32m      5\u001b[0m     r_emb\u001b[39m=\u001b[39;49mr_emb, r_box\u001b[39m=\u001b[39;49mr_box, emb_center\u001b[39m=\u001b[39;49memb_center,\n\u001b[1;32m      6\u001b[0m     ic\u001b[39m=\u001b[39;49mic, dt\u001b[39m=\u001b[39;49mdt, nsteps\u001b[39m=\u001b[39;49mnsteps, saverate\u001b[39m=\u001b[39;49msaverate,\n\u001b[1;32m      7\u001b[0m     boundary_type\u001b[39m=\u001b[39;49mboundary_type, \n\u001b[1;32m      8\u001b[0m     regularization\u001b[39m=\u001b[39;49mregularization, \n\u001b[1;32m      9\u001b[0m     show_pbar\u001b[39m=\u001b[39;49m\u001b[39mTrue\u001b[39;49;00m,\n\u001b[1;32m     10\u001b[0m     verbosity\u001b[39m=\u001b[39;49mverbosity,\n\u001b[1;32m     11\u001b[0m     outdir\u001b[39m=\u001b[39;49moutdir\n\u001b[1;32m     12\u001b[0m )\n",
      "File \u001b[0;32m~/Documents/Projects/embryoids/insilemb/simulations/simdisk.py:147\u001b[0m, in \u001b[0;36mrun_voronoi_simulation\u001b[0;34m(ncells, nus_inner, nus_outer, alphas_inner, alphas_outer, betas_inner, betas_outer, sa_inner, sa_outer, si_inner, si_outer, ka, ki, ic, dt, nsteps, **kwargs)\u001b[0m\n\u001b[1;32m    145\u001b[0m \u001b[39mfor\u001b[39;00m i \u001b[39min\u001b[39;00m tqdm(\u001b[39mrange\u001b[39m(nsteps), desc\u001b[39m=\u001b[39m\u001b[39m\"\u001b[39m\u001b[39mSimulating\u001b[39m\u001b[39m\"\u001b[39m, disable\u001b[39m=\u001b[39m\u001b[39mnot\u001b[39;00m show_pbar):\n\u001b[1;32m    146\u001b[0m     t \u001b[39m+\u001b[39m\u001b[39m=\u001b[39m dt\n\u001b[0;32m--> 147\u001b[0m     emb\u001b[39m.\u001b[39;49mstep(dt\u001b[39m=\u001b[39;49mdt)\n\u001b[1;32m    148\u001b[0m     \u001b[39m# history[i] = emb.get_fields().astype(np.float32)\u001b[39;00m\n\u001b[1;32m    149\u001b[0m     \u001b[39mif\u001b[39;00m t \u001b[39m>\u001b[39m\u001b[39m=\u001b[39m burnin \u001b[39mand\u001b[39;00m (i\u001b[39m+\u001b[39m\u001b[39m1\u001b[39m) \u001b[39m%\u001b[39m saverate \u001b[39m==\u001b[39m \u001b[39m0\u001b[39m:\n",
      "File \u001b[0;32m~/Documents/Projects/embryoids/insilemb/embryoids/topological_embryoid.py:188\u001b[0m, in \u001b[0;36mTopologicalEmbryoid.step\u001b[0;34m(self, dt)\u001b[0m\n\u001b[1;32m    185\u001b[0m \u001b[39mdef\u001b[39;00m \u001b[39mstep\u001b[39m(\u001b[39mself\u001b[39m, dt):\n\u001b[1;32m    186\u001b[0m     \u001b[39m# newfields = self.xp.empty(self.fields.shape)\u001b[39;00m\n\u001b[1;32m    187\u001b[0m     \u001b[39mfor\u001b[39;00m i \u001b[39min\u001b[39;00m \u001b[39mrange\u001b[39m(\u001b[39mself\u001b[39m\u001b[39m.\u001b[39mnfields):\n\u001b[0;32m--> 188\u001b[0m         \u001b[39mself\u001b[39m\u001b[39m.\u001b[39mnewfields[i] \u001b[39m=\u001b[39m \u001b[39mself\u001b[39;49m\u001b[39m.\u001b[39;49m_update_layer(i, dt)\n\u001b[1;32m    189\u001b[0m     \u001b[39mself\u001b[39m\u001b[39m.\u001b[39mfields[:] \u001b[39m=\u001b[39m \u001b[39mself\u001b[39m\u001b[39m.\u001b[39mnewfields\n\u001b[1;32m    190\u001b[0m     \u001b[39mself\u001b[39m\u001b[39m.\u001b[39m_set_fixed_cells()\n",
      "File \u001b[0;32m~/Documents/Projects/embryoids/insilemb/embryoids/topological_embryoid.py:197\u001b[0m, in \u001b[0;36mTopologicalEmbryoid._update_layer\u001b[0;34m(self, idx, dt)\u001b[0m\n\u001b[1;32m    195\u001b[0m a \u001b[39m=\u001b[39m \u001b[39mself\u001b[39m\u001b[39m.\u001b[39malphas[idx]\n\u001b[1;32m    196\u001b[0m b \u001b[39m=\u001b[39m \u001b[39mself\u001b[39m\u001b[39m.\u001b[39mbetas[idx]\n\u001b[0;32m--> 197\u001b[0m m \u001b[39m=\u001b[39m \u001b[39mself\u001b[39;49m\u001b[39m.\u001b[39;49madj\u001b[39m.\u001b[39;49mmultiply(x) \u001b[39m-\u001b[39;49m \u001b[39mself\u001b[39;49m\u001b[39m.\u001b[39;49m_sparse_diags(x) \u001b[39m*\u001b[39;49m \u001b[39mself\u001b[39;49m\u001b[39m.\u001b[39;49madj\n\u001b[1;32m    198\u001b[0m laplac \u001b[39m=\u001b[39m m\u001b[39m.\u001b[39msum(axis\u001b[39m=\u001b[39m\u001b[39m1\u001b[39m)\u001b[39m.\u001b[39mravel() \u001b[39mif\u001b[39;00m \u001b[39mself\u001b[39m\u001b[39m.\u001b[39muse_gpu \u001b[39melse\u001b[39;00m m\u001b[39m.\u001b[39msum(axis\u001b[39m=\u001b[39m\u001b[39m1\u001b[39m)\u001b[39m.\u001b[39mA1\n\u001b[1;32m    199\u001b[0m nonlinterm \u001b[39m=\u001b[39m \u001b[39mself\u001b[39m\u001b[39m.\u001b[39mnonlinearity(\u001b[39mself\u001b[39m\u001b[39m.\u001b[39mfields, idx)\n",
      "File \u001b[0;32m~/Documents/Projects/embryoids/env/lib/python3.11/site-packages/scipy/sparse/_base.py:491\u001b[0m, in \u001b[0;36mspmatrix.__sub__\u001b[0;34m(self, other)\u001b[0m\n\u001b[1;32m    489\u001b[0m     \u001b[39mif\u001b[39;00m other\u001b[39m.\u001b[39mshape \u001b[39m!=\u001b[39m \u001b[39mself\u001b[39m\u001b[39m.\u001b[39mshape:\n\u001b[1;32m    490\u001b[0m         \u001b[39mraise\u001b[39;00m \u001b[39mValueError\u001b[39;00m(\u001b[39m\"\u001b[39m\u001b[39minconsistent shapes\u001b[39m\u001b[39m\"\u001b[39m)\n\u001b[0;32m--> 491\u001b[0m     \u001b[39mreturn\u001b[39;00m \u001b[39mself\u001b[39;49m\u001b[39m.\u001b[39;49m_sub_sparse(other)\n\u001b[1;32m    492\u001b[0m \u001b[39melif\u001b[39;00m isdense(other):\n\u001b[1;32m    493\u001b[0m     other \u001b[39m=\u001b[39m np\u001b[39m.\u001b[39mbroadcast_to(other, \u001b[39mself\u001b[39m\u001b[39m.\u001b[39mshape)\n",
      "File \u001b[0;32m~/Documents/Projects/embryoids/env/lib/python3.11/site-packages/scipy/sparse/_base.py:453\u001b[0m, in \u001b[0;36mspmatrix._sub_sparse\u001b[0;34m(self, other)\u001b[0m\n\u001b[1;32m    452\u001b[0m \u001b[39mdef\u001b[39;00m \u001b[39m_sub_sparse\u001b[39m(\u001b[39mself\u001b[39m, other):\n\u001b[0;32m--> 453\u001b[0m     \u001b[39mreturn\u001b[39;00m \u001b[39mself\u001b[39;49m\u001b[39m.\u001b[39;49mtocsr()\u001b[39m.\u001b[39m_sub_sparse(other)\n",
      "File \u001b[0;32m~/Documents/Projects/embryoids/env/lib/python3.11/site-packages/scipy/sparse/_coo.py:405\u001b[0m, in \u001b[0;36mcoo_matrix.tocsr\u001b[0;34m(self, copy)\u001b[0m\n\u001b[1;32m    402\u001b[0m indices \u001b[39m=\u001b[39m np\u001b[39m.\u001b[39mempty_like(col, dtype\u001b[39m=\u001b[39midx_dtype)\n\u001b[1;32m    403\u001b[0m data \u001b[39m=\u001b[39m np\u001b[39m.\u001b[39mempty_like(\u001b[39mself\u001b[39m\u001b[39m.\u001b[39mdata, dtype\u001b[39m=\u001b[39mupcast(\u001b[39mself\u001b[39m\u001b[39m.\u001b[39mdtype))\n\u001b[0;32m--> 405\u001b[0m coo_tocsr(M, N, \u001b[39mself\u001b[39;49m\u001b[39m.\u001b[39;49mnnz, row, col, \u001b[39mself\u001b[39;49m\u001b[39m.\u001b[39;49mdata,\n\u001b[1;32m    406\u001b[0m           indptr, indices, data)\n\u001b[1;32m    408\u001b[0m x \u001b[39m=\u001b[39m \u001b[39mself\u001b[39m\u001b[39m.\u001b[39m_csr_container((data, indices, indptr), shape\u001b[39m=\u001b[39m\u001b[39mself\u001b[39m\u001b[39m.\u001b[39mshape)\n\u001b[1;32m    409\u001b[0m \u001b[39mif\u001b[39;00m \u001b[39mnot\u001b[39;00m \u001b[39mself\u001b[39m\u001b[39m.\u001b[39mhas_canonical_format:\n",
      "\u001b[0;31mKeyboardInterrupt\u001b[0m: "
     ]
    }
   ],
   "source": [
    "nsteps = int(tfin/dt)\n",
    "run_voronoi_simulation(\n",
    "    ncells, nus_inner, nus_outer, alphas_inner, alphas_outer, betas_inner, \n",
    "    betas_outer, sa_inner, sa_outer, si_inner, si_outer, ka, ki, \n",
    "    r_emb=r_emb, r_box=r_box, emb_center=emb_center,\n",
    "    ic=ic, dt=dt, nsteps=nsteps, saverate=saverate,\n",
    "    boundary_type=boundary_type, \n",
    "    regularization=regularization, \n",
    "    show_pbar=True,\n",
    "    verbosity=verbosity,\n",
    "    outdir=outdir\n",
    ")"
   ]
  },
  {
   "cell_type": "code",
   "execution_count": null,
   "metadata": {},
   "outputs": [],
   "source": []
  }
 ],
 "metadata": {
  "kernelspec": {
   "display_name": "Python 3",
   "language": "python",
   "name": "python3"
  },
  "language_info": {
   "codemirror_mode": {
    "name": "ipython",
    "version": 3
   },
   "file_extension": ".py",
   "mimetype": "text/x-python",
   "name": "python",
   "nbconvert_exporter": "python",
   "pygments_lexer": "ipython3",
   "version": "3.11.4"
  },
  "orig_nbformat": 4
 },
 "nbformat": 4,
 "nbformat_minor": 2
}
