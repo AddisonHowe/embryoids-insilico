{
 "cells": [
  {
   "cell_type": "code",
   "execution_count": null,
   "metadata": {},
   "outputs": [],
   "source": [
    "import numpy as np\n",
    "from insilemb.simulations.simdisk import run_voronoi_simulation"
   ]
  },
  {
   "cell_type": "code",
   "execution_count": null,
   "metadata": {},
   "outputs": [],
   "source": [
    "ncells = 10000\n",
    "tfin = 1000\n",
    "dt = 0.01\n",
    "saverate = 100\n",
    "boundary_type = None\n",
    "regularization = 10\n",
    "\n",
    "runname = f\"simdisk_{ncells}_{tfin}\"\n",
    "outdir = f\"../out/nb/sims/{runname}\"\n",
    "\n",
    "verbosity = 0"
   ]
  },
  {
   "cell_type": "code",
   "execution_count": null,
   "metadata": {},
   "outputs": [],
   "source": [
    "# Initial condition\n",
    "n = ncells\n",
    "ic = np.random.rand(2, n)"
   ]
  },
  {
   "cell_type": "code",
   "execution_count": null,
   "metadata": {},
   "outputs": [],
   "source": [
    "# Dish and embryoid radii\n",
    "r_box = 1.2\n",
    "r_emb = 1\n",
    "emb_center = [0, 0]\n",
    "\n",
    "# Model parameters\n",
    "nus_inner = [0.0025, 0.4]\n",
    "nus_outer = [0.0025, 0.4]\n",
    "alphas_inner = [0.0, 0.0]\n",
    "alphas_outer = [0.0, 0.0]\n",
    "betas_inner = [0.001, 0.008]\n",
    "betas_outer = [0.01, 0.01]\n",
    "sa_inner = 0.01\n",
    "sa_outer = 0.0\n",
    "si_inner = 0.01\n",
    "si_outer = 0.0\n",
    "ka = 0\n",
    "ki = 1"
   ]
  },
  {
   "cell_type": "code",
   "execution_count": null,
   "metadata": {},
   "outputs": [],
   "source": [
    "nsteps = int(tfin/dt)\n",
    "run_voronoi_simulation(\n",
    "    ncells, nus_inner, nus_outer, alphas_inner, alphas_outer, betas_inner, \n",
    "    betas_outer, sa_inner, sa_outer, si_inner, si_outer, ka, ki, \n",
    "    r_emb=r_emb, r_box=r_box, emb_center=emb_center,\n",
    "    ic=ic, dt=dt, nsteps=nsteps, saverate=saverate,\n",
    "    boundary_type=boundary_type, \n",
    "    regularization=regularization, \n",
    "    show_pbar=True,\n",
    "    verbosity=verbosity,\n",
    "    outdir=outdir\n",
    ")"
   ]
  },
  {
   "cell_type": "code",
   "execution_count": null,
   "metadata": {},
   "outputs": [],
   "source": [
    "!sh ../scripts/build_vids.sh {outdir} -y"
   ]
  }
 ],
 "metadata": {
  "kernelspec": {
   "display_name": "Python 3",
   "language": "python",
   "name": "python3"
  },
  "language_info": {
   "codemirror_mode": {
    "name": "ipython",
    "version": 3
   },
   "file_extension": ".py",
   "mimetype": "text/x-python",
   "name": "python",
   "nbconvert_exporter": "python",
   "pygments_lexer": "ipython3",
   "version": "3.11.4"
  },
  "orig_nbformat": 4
 },
 "nbformat": 4,
 "nbformat_minor": 2
}
